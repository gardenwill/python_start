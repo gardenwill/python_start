{
  "nbformat": 4,
  "nbformat_minor": 0,
  "metadata": {
    "colab": {
      "name": "파이썬입문.ipynb",
      "provenance": [],
      "collapsed_sections": [],
      "authorship_tag": "ABX9TyP5rOXZjjPCJQ1VLLa0v9wq",
      "include_colab_link": true
    },
    "kernelspec": {
      "name": "python3",
      "display_name": "Python 3"
    }
  },
  "cells": [
    {
      "cell_type": "markdown",
      "metadata": {
        "id": "view-in-github",
        "colab_type": "text"
      },
      "source": [
        "<a href=\"https://colab.research.google.com/github/gardenwill/python_start/blob/main/%ED%8C%8C%EC%9D%B4%EC%8D%AC%EC%9E%85%EB%AC%B8.ipynb\" target=\"_parent\"><img src=\"https://colab.research.google.com/assets/colab-badge.svg\" alt=\"Open In Colab\"/></a>"
      ]
    },
    {
      "cell_type": "code",
      "metadata": {
        "colab": {
          "base_uri": "https://localhost:8080/"
        },
        "id": "AC2B_ASrE9lw",
        "outputId": "11d19481-90c7-45bc-9cc3-cb93f39fc868"
      },
      "source": [
        "print('hello')"
      ],
      "execution_count": null,
      "outputs": [
        {
          "output_type": "stream",
          "text": [
            "hello\n"
          ],
          "name": "stdout"
        }
      ]
    },
    {
      "cell_type": "code",
      "metadata": {
        "colab": {
          "base_uri": "https://localhost:8080/"
        },
        "id": "bTg7a57BHAJR",
        "outputId": "8d39bf67-b360-44c7-eb9c-2cc48d4f2040"
      },
      "source": [
        "print('안녕하세요.', end=' ')\r\n",
        "print('저는 홍길동입니다.')"
      ],
      "execution_count": null,
      "outputs": [
        {
          "output_type": "stream",
          "text": [
            "안녕하세요. 저는 홍길동입니다.\n"
          ],
          "name": "stdout"
        }
      ]
    },
    {
      "cell_type": "code",
      "metadata": {
        "id": "OyLlwOO_HH4t"
      },
      "source": [
        "# 설명을 씀, 컨트롤 + /, comment, 주석\r\n",
        "# 입력: 데이터를 가지고 와야감.\r\n",
        "# 처리: 적절한 처리\r\n",
        "# 출력: 처리한 결과를 내보는 일(모니터, 파일, db저장, 네트워크 전송)"
      ],
      "execution_count": null,
      "outputs": []
    },
    {
      "cell_type": "code",
      "metadata": {
        "colab": {
          "base_uri": "https://localhost:8080/"
        },
        "id": "bKD7JpkLJViA",
        "outputId": "7c4a9f48-5e60-405c-96a0-446e56d3204e"
      },
      "source": [
        "name = input('이름을 입력하세요 >> ') #간단한 처리(기호를 씀): 연산=> 연산자\r\n",
        "# = : 대입연산자"
      ],
      "execution_count": null,
      "outputs": [
        {
          "output_type": "stream",
          "text": [
            "이름을 입력하세요 >> 홍길동\n"
          ],
          "name": "stdout"
        }
      ]
    },
    {
      "cell_type": "code",
      "metadata": {
        "colab": {
          "base_uri": "https://localhost:8080/"
        },
        "id": "umm5vFVfJgHG",
        "outputId": "ff854b54-708a-415c-bf2a-a3d946efa65b"
      },
      "source": [
        "print(name)"
      ],
      "execution_count": null,
      "outputs": [
        {
          "output_type": "stream",
          "text": [
            "홍길동\n"
          ],
          "name": "stdout"
        }
      ]
    },
    {
      "cell_type": "code",
      "metadata": {
        "colab": {
          "base_uri": "https://localhost:8080/"
        },
        "id": "uLpwGHJEK-Kd",
        "outputId": "e9c52233-aa8b-4715-da55-140f7bc6abf2"
      },
      "source": [
        "age = input('나이를 입력 >> ')\r\n",
        "print(age)"
      ],
      "execution_count": null,
      "outputs": [
        {
          "output_type": "stream",
          "text": [
            "나이를 입력 >> 100\n",
            "100\n"
          ],
          "name": "stdout"
        }
      ]
    },
    {
      "cell_type": "code",
      "metadata": {
        "colab": {
          "base_uri": "https://localhost:8080/"
        },
        "id": "il-YXUkBMfxH",
        "outputId": "61453e14-875b-4490-eba1-d5e0bab6fd55"
      },
      "source": [
        "company = input('소속을 입력 >> ')\r\n",
        "print(company)"
      ],
      "execution_count": null,
      "outputs": [
        {
          "output_type": "stream",
          "text": [
            "소속을 입력 >> mega\n",
            "mega\n"
          ],
          "name": "stdout"
        }
      ]
    },
    {
      "cell_type": "code",
      "metadata": {
        "id": "czHvMeUFMnef"
      },
      "source": [
        "location = '신촌'"
      ],
      "execution_count": null,
      "outputs": []
    },
    {
      "cell_type": "code",
      "metadata": {
        "id": "r7vPl8XOSHJY"
      },
      "source": [
        "number = 2"
      ],
      "execution_count": null,
      "outputs": []
    },
    {
      "cell_type": "code",
      "metadata": {
        "id": "cPGzH9V3SOX_"
      },
      "source": [
        "height = 195.5"
      ],
      "execution_count": null,
      "outputs": []
    },
    {
      "cell_type": "code",
      "metadata": {
        "id": "FcszW4zZS3in"
      },
      "source": [
        "food_lunch = True"
      ],
      "execution_count": null,
      "outputs": []
    },
    {
      "cell_type": "code",
      "metadata": {
        "colab": {
          "base_uri": "https://localhost:8080/"
        },
        "id": "2k-ZXapyS8k-",
        "outputId": "1364692a-b3aa-4c2e-c19b-456a40e952e2"
      },
      "source": [
        "age2 = input('나이 입력>> ') #100 \r\n",
        "#컴퓨터에서 입력한 데이터는 타입을 무조건 스트링으로 인식!\r\n",
        "#스트링을 정수로 바꾸어쓰는(강제 캐스팅) 결정은 프로그래머가 한다.\r\n",
        "print('내년 나이는 ', int(age2) + 1)"
      ],
      "execution_count": null,
      "outputs": [
        {
          "output_type": "stream",
          "text": [
            "나이 입력>> 100\n",
            "내년 나이는  101\n"
          ],
          "name": "stdout"
        }
      ]
    },
    {
      "cell_type": "code",
      "metadata": {
        "colab": {
          "base_uri": "https://localhost:8080/"
        },
        "id": "W3B1PzxxUZuW",
        "outputId": "e272a87a-fff4-498b-8bd7-82e82523b2bd"
      },
      "source": [
        "# 두수를 입력을 받아서, 사칙연산을 해보세요.\r\n",
        "n1 = int(input('숫자1>> '))\r\n",
        "n2 = int(input('숫자2>> '))"
      ],
      "execution_count": null,
      "outputs": [
        {
          "output_type": "stream",
          "text": [
            "숫자1>> 3\n",
            "숫자2>> 7\n"
          ],
          "name": "stdout"
        }
      ]
    },
    {
      "cell_type": "code",
      "metadata": {
        "colab": {
          "base_uri": "https://localhost:8080/"
        },
        "id": "9vr2Il7GX4La",
        "outputId": "3d27eabd-047b-4b55-cbcf-d8146caad365"
      },
      "source": [
        "print('두 수의 합은 ', n1 + n2) #산술연산자(더하기 연산)\r\n",
        "print('두 수의 차는 ', n1 - n2)\r\n",
        "print('두 수의 곱은 ', n1 * n2) #아스테리크, 에스테리크\r\n",
        "print('두 수의 나누셈은 ', n1 / n2)\r\n",
        "print('두 수의 나누셈은 ', n1 // n2)"
      ],
      "execution_count": null,
      "outputs": [
        {
          "output_type": "stream",
          "text": [
            "두 수의 합은  10\n",
            "두 수의 차는  -4\n",
            "두 수의 곱은  21\n",
            "두 수의 나누셈은  0.42857142857142855\n",
            "두 수의 나누셈은  0\n"
          ],
          "name": "stdout"
        }
      ]
    },
    {
      "cell_type": "code",
      "metadata": {
        "colab": {
          "base_uri": "https://localhost:8080/"
        },
        "id": "TPDt9yPIYgFy",
        "outputId": "ba6dbb2d-c7d2-488f-d06e-9349c45ad775"
      },
      "source": [
        "me = '커피'\r\n",
        "me2 = '우유'\r\n",
        "print(me + me2) #문자열로 결합시켜라(결합연산자)"
      ],
      "execution_count": null,
      "outputs": [
        {
          "output_type": "stream",
          "text": [
            "커피우유\n"
          ],
          "name": "stdout"
        }
      ]
    },
    {
      "cell_type": "code",
      "metadata": {
        "id": "9CsCF_qLZXWx"
      },
      "source": [
        "price = 1000"
      ],
      "execution_count": null,
      "outputs": []
    },
    {
      "cell_type": "code",
      "metadata": {
        "colab": {
          "base_uri": "https://localhost:8080/"
        },
        "id": "4YlVG1NmZj0P",
        "outputId": "7b69bb11-87ed-471c-f001-13e12230c489"
      },
      "source": [
        "print(me + '가격은 ' + str(price) + '원')"
      ],
      "execution_count": null,
      "outputs": [
        {
          "output_type": "stream",
          "text": [
            "커피가격은 1000원\n"
          ],
          "name": "stdout"
        }
      ]
    },
    {
      "cell_type": "code",
      "metadata": {
        "colab": {
          "base_uri": "https://localhost:8080/"
        },
        "id": "Yz0tKq1IaAyM",
        "outputId": "f90f0792-3b58-4cfb-8237-15b6d37f2cb9"
      },
      "source": [
        "coffee_price = int(input('커피값 입력: '))\r\n",
        "coffee_count = int(input('커피 인원수 입력: '))\r\n",
        "sum = coffee_price * coffee_count #변수(저장공간, 저장공간이름=>변수명)"
      ],
      "execution_count": null,
      "outputs": [
        {
          "output_type": "stream",
          "text": [
            "커피값 입력: 5000\n",
            "커피 인원수 입력: 5\n"
          ],
          "name": "stdout"
        }
      ]
    },
    {
      "cell_type": "code",
      "metadata": {
        "colab": {
          "base_uri": "https://localhost:8080/"
        },
        "id": "SNO-VHZBhEYw",
        "outputId": "e74b618d-69f2-4043-a48d-cff0d41cf372"
      },
      "source": [
        "if sum >= 20000: #True\r\n",
        "  print('20000원 이상입니다.')\r\n",
        "  print(sum - 2000, '원 결제하세요.')\r\n",
        "else: #False\r\n",
        "  print('20000원 미만입니다.')\r\n",
        "  print(sum, '원 결제하세요.')"
      ],
      "execution_count": null,
      "outputs": [
        {
          "output_type": "stream",
          "text": [
            "20000원 이상입니다.\n",
            "23000 원 결제하세요.\n"
          ],
          "name": "stdout"
        }
      ]
    },
    {
      "cell_type": "code",
      "metadata": {
        "colab": {
          "base_uri": "https://localhost:8080/"
        },
        "id": "SGX2lSbgiwLy",
        "outputId": "9f80114c-b6d0-4ec5-e0b7-c532f5ba1bd9"
      },
      "source": [
        "a = '홍길동'\r\n",
        "b = '홍길동'\r\n",
        "print(a == b)"
      ],
      "execution_count": null,
      "outputs": [
        {
          "output_type": "stream",
          "text": [
            "True\n"
          ],
          "name": "stdout"
        }
      ]
    },
    {
      "cell_type": "code",
      "metadata": {
        "colab": {
          "base_uri": "https://localhost:8080/"
        },
        "id": "R3j9hc2Wnvup",
        "outputId": "adfd6b9b-cd24-41be-a564-818adfe620ac"
      },
      "source": [
        "if a == b:#True일때만!\r\n",
        "  print('동일한 사람')\r\n",
        "else:#False인 모든 상황!\r\n",
        "  print('다른 사람')"
      ],
      "execution_count": null,
      "outputs": [
        {
          "output_type": "stream",
          "text": [
            "동일한 사람\n"
          ],
          "name": "stdout"
        }
      ]
    },
    {
      "cell_type": "code",
      "metadata": {
        "colab": {
          "base_uri": "https://localhost:8080/"
        },
        "id": "lhqdRM-8vq5q",
        "outputId": "f280a0ee-24ea-4c0b-d0ca-81a6ed846a2e"
      },
      "source": [
        "money = int(input('1년 만기 정기 예금을 얼마나 예치하시겠습니까? '))"
      ],
      "execution_count": null,
      "outputs": [
        {
          "output_type": "stream",
          "text": [
            "1년 만기 정기 예금을 얼마나 예치하시겠습니까? 2000\n"
          ],
          "name": "stdout"
        }
      ]
    },
    {
      "cell_type": "code",
      "metadata": {
        "colab": {
          "base_uri": "https://localhost:8080/"
        },
        "id": "F2SOAoYlvxCB",
        "outputId": "2e7ab121-bba1-4630-cc49-adbd8b70d6a1"
      },
      "source": [
        "money2 = input('1년 만기 정기 예금을 얼마나 예치하시겠습니까? ')\r\n",
        "money3 = int(money2)"
      ],
      "execution_count": null,
      "outputs": [
        {
          "output_type": "stream",
          "text": [
            "1년 만기 정기 예금을 얼마나 예치하시겠습니까? 20000\n"
          ],
          "name": "stdout"
        }
      ]
    },
    {
      "cell_type": "code",
      "metadata": {
        "colab": {
          "base_uri": "https://localhost:8080/"
        },
        "id": "L6E3bDj0wyr_",
        "outputId": "d3747d7c-6392-43e1-a5a4-05e792efaefb"
      },
      "source": [
        "print('원금이 ', money, '원이신구요.!' )"
      ],
      "execution_count": null,
      "outputs": [
        {
          "output_type": "stream",
          "text": [
            "원금이  2000 원이신구요.!\n"
          ],
          "name": "stdout"
        }
      ]
    },
    {
      "cell_type": "code",
      "metadata": {
        "colab": {
          "base_uri": "https://localhost:8080/"
        },
        "id": "BmBEewuqw9QI",
        "outputId": "dd4baa89-cdbd-4b82-b8d3-294acaaf215d"
      },
      "source": [
        "print('이자는 ', ,int(money * 0.1) '원이신구요.!' )"
      ],
      "execution_count": null,
      "outputs": [
        {
          "output_type": "stream",
          "text": [
            "이자는  200 원이신구요.!\n"
          ],
          "name": "stdout"
        }
      ]
    },
    {
      "cell_type": "code",
      "metadata": {
        "colab": {
          "base_uri": "https://localhost:8080/"
        },
        "id": "SMoq3OpbxHOh",
        "outputId": "07ddc4a6-979f-4fa9-d2dc-bf7c36e820aa"
      },
      "source": [
        "print('원리합계는 ', money + int(money * 0.1), '원이신구요.!' )"
      ],
      "execution_count": null,
      "outputs": [
        {
          "output_type": "stream",
          "text": [
            "원리합계는  2200 원이신구요.!\n"
          ],
          "name": "stdout"
        }
      ]
    },
    {
      "cell_type": "code",
      "metadata": {
        "id": "DtflVJVLxeDC"
      },
      "source": [
        "sticker_price = 1000\r\n",
        "sticker_count = 3"
      ],
      "execution_count": null,
      "outputs": []
    },
    {
      "cell_type": "code",
      "metadata": {
        "id": "T1kp0MRJx4Ts"
      },
      "source": [
        "book_price = 2500\r\n",
        "book_count = 4"
      ],
      "execution_count": null,
      "outputs": []
    },
    {
      "cell_type": "code",
      "metadata": {
        "id": "SaouPVNvx8nj"
      },
      "source": [
        "sum = sticker_price * sticker_count + book_price * book_count\r\n"
      ],
      "execution_count": null,
      "outputs": []
    },
    {
      "cell_type": "code",
      "metadata": {
        "colab": {
          "base_uri": "https://localhost:8080/"
        },
        "id": "MnEKdzyIyNBg",
        "outputId": "924fa2c6-dc6e-44b4-9807-049e7ccff4ae"
      },
      "source": [
        "print('총 결제 금액은 ', sum)"
      ],
      "execution_count": null,
      "outputs": [
        {
          "output_type": "stream",
          "text": [
            "총 결제 금액은  13000\n"
          ],
          "name": "stdout"
        }
      ]
    },
    {
      "cell_type": "code",
      "metadata": {
        "id": "cM5qFdjmyRzQ"
      },
      "source": [
        "discount = sum * 0.1 #할인받는 금액"
      ],
      "execution_count": null,
      "outputs": []
    },
    {
      "cell_type": "code",
      "metadata": {
        "colab": {
          "base_uri": "https://localhost:8080/"
        },
        "id": "ML0mFwLIyg6e",
        "outputId": "c032ce22-1835-4473-b0f7-18087b37a7e8"
      },
      "source": [
        "print('할일받는 금액 ', discount)"
      ],
      "execution_count": null,
      "outputs": [
        {
          "output_type": "stream",
          "text": [
            "할일받는 금액  1300.0\n"
          ],
          "name": "stdout"
        }
      ]
    },
    {
      "cell_type": "code",
      "metadata": {
        "colab": {
          "base_uri": "https://localhost:8080/"
        },
        "id": "IPLwoI6aymlZ",
        "outputId": "a76edeb8-31f5-497f-a31a-96477ab473f7"
      },
      "source": [
        "print('내가 낸 금액은 ', int(sum - discount))"
      ],
      "execution_count": null,
      "outputs": [
        {
          "output_type": "stream",
          "text": [
            "내가 낸 금액은  11700\n"
          ],
          "name": "stdout"
        }
      ]
    },
    {
      "cell_type": "code",
      "metadata": {
        "id": "ulxKCh84yyoa"
      },
      "source": [
        "id = 'root'"
      ],
      "execution_count": null,
      "outputs": []
    },
    {
      "cell_type": "code",
      "metadata": {
        "colab": {
          "base_uri": "https://localhost:8080/"
        },
        "id": "Mk7jEwyEz3MU",
        "outputId": "7de44a89-1b5f-43aa-db54-c39df75fbc60"
      },
      "source": [
        "id2 = input('로그인할 id를 입력>> ') #root"
      ],
      "execution_count": null,
      "outputs": [
        {
          "output_type": "stream",
          "text": [
            "로그인할 id를 입력>> root2|\n"
          ],
          "name": "stdout"
        }
      ]
    },
    {
      "cell_type": "code",
      "metadata": {
        "colab": {
          "base_uri": "https://localhost:8080/"
        },
        "id": "zliiceXNz-Vs",
        "outputId": "f01415e5-eac6-428c-8eaa-a667831fbd50"
      },
      "source": [
        "if id == id2: #True\r\n",
        "  print('로그인되었습니다.')\r\n",
        "else:\r\n",
        "  print('로그인되지 않았습니다.')"
      ],
      "execution_count": null,
      "outputs": [
        {
          "output_type": "stream",
          "text": [
            "로그인되지 않았습니다.\n"
          ],
          "name": "stdout"
        }
      ]
    },
    {
      "cell_type": "code",
      "metadata": {
        "id": "cHPks5tI0SYw"
      },
      "source": [
        ""
      ],
      "execution_count": null,
      "outputs": []
    }
  ]
}