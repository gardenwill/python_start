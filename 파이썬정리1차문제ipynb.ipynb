{
  "nbformat": 4,
  "nbformat_minor": 0,
  "metadata": {
    "colab": {
      "name": "파이썬정리1차문제ipynb",
      "provenance": [],
      "collapsed_sections": [],
      "authorship_tag": "ABX9TyOgnefevEEcV9fnCVxKXYLd",
      "include_colab_link": true
    },
    "kernelspec": {
      "name": "python3",
      "display_name": "Python 3"
    }
  },
  "cells": [
    {
      "cell_type": "markdown",
      "metadata": {
        "id": "view-in-github",
        "colab_type": "text"
      },
      "source": [
        "<a href=\"https://colab.research.google.com/github/gardenwill/python_start/blob/main/%ED%8C%8C%EC%9D%B4%EC%8D%AC%EC%A0%95%EB%A6%AC1%EC%B0%A8%EB%AC%B8%EC%A0%9Cipynb.ipynb\" target=\"_parent\"><img src=\"https://colab.research.google.com/assets/colab-badge.svg\" alt=\"Open In Colab\"/></a>"
      ]
    },
    {
      "cell_type": "code",
      "metadata": {
        "id": "4HPTklb8imh1"
      },
      "source": [
        "num2 = 100"
      ],
      "execution_count": 1,
      "outputs": []
    },
    {
      "cell_type": "code",
      "metadata": {
        "colab": {
          "base_uri": "https://localhost:8080/"
        },
        "id": "qsRaIzCUizla",
        "outputId": "93d5c1ec-b019-443e-80d9-7d66f76d929c"
      },
      "source": [
        "print(num2)"
      ],
      "execution_count": 2,
      "outputs": [
        {
          "output_type": "stream",
          "text": [
            "100\n"
          ],
          "name": "stdout"
        }
      ]
    },
    {
      "cell_type": "code",
      "metadata": {
        "colab": {
          "base_uri": "https://localhost:8080/"
        },
        "id": "heINEBZwi3nY",
        "outputId": "4a1ae1cd-e712-4d48-d11a-7f3abda8bab0"
      },
      "source": [
        "money = 10000\r\n",
        "if money > 10000:\r\n",
        "  print('커요')\r\n",
        "else:\r\n",
        "  print('작아요')"
      ],
      "execution_count": 3,
      "outputs": [
        {
          "output_type": "stream",
          "text": [
            "작아요\n"
          ],
          "name": "stdout"
        }
      ]
    },
    {
      "cell_type": "code",
      "metadata": {
        "id": "BmteP_qBjKPN"
      },
      "source": [
        "변수명을 한글로 쓸 수 있을까요?\r\n",
        "넵! \r\n",
        "name = '홍길동'"
      ],
      "execution_count": null,
      "outputs": []
    },
    {
      "cell_type": "code",
      "metadata": {
        "colab": {
          "base_uri": "https://localhost:8080/"
        },
        "id": "Jgz3FLLinENF",
        "outputId": "032d2b04-b926-4566-c40b-3147ac852aec"
      },
      "source": [
        "count = 0\r\n",
        "for q in range(1, 1001):\r\n",
        "  if q % 3 == 0:\r\n",
        "    count = count + 1\r\n",
        "    print(count, end = \" \") #count에 들어있는 변수값을 프린트하고, 엔터까지 함.\r\n",
        "\r\n",
        "print(count)"
      ],
      "execution_count": 6,
      "outputs": [
        {
          "output_type": "stream",
          "text": [
            "1 2 3 4 5 6 7 8 9 10 11 12 13 14 15 16 17 18 19 20 21 22 23 24 25 26 27 28 29 30 31 32 33 34 35 36 37 38 39 40 41 42 43 44 45 46 47 48 49 50 51 52 53 54 55 56 57 58 59 60 61 62 63 64 65 66 67 68 69 70 71 72 73 74 75 76 77 78 79 80 81 82 83 84 85 86 87 88 89 90 91 92 93 94 95 96 97 98 99 100 101 102 103 104 105 106 107 108 109 110 111 112 113 114 115 116 117 118 119 120 121 122 123 124 125 126 127 128 129 130 131 132 133 134 135 136 137 138 139 140 141 142 143 144 145 146 147 148 149 150 151 152 153 154 155 156 157 158 159 160 161 162 163 164 165 166 167 168 169 170 171 172 173 174 175 176 177 178 179 180 181 182 183 184 185 186 187 188 189 190 191 192 193 194 195 196 197 198 199 200 201 202 203 204 205 206 207 208 209 210 211 212 213 214 215 216 217 218 219 220 221 222 223 224 225 226 227 228 229 230 231 232 233 234 235 236 237 238 239 240 241 242 243 244 245 246 247 248 249 250 251 252 253 254 255 256 257 258 259 260 261 262 263 264 265 266 267 268 269 270 271 272 273 274 275 276 277 278 279 280 281 282 283 284 285 286 287 288 289 290 291 292 293 294 295 296 297 298 299 300 301 302 303 304 305 306 307 308 309 310 311 312 313 314 315 316 317 318 319 320 321 322 323 324 325 326 327 328 329 330 331 332 333 333\n"
          ],
          "name": "stdout"
        }
      ]
    },
    {
      "cell_type": "code",
      "metadata": {
        "colab": {
          "base_uri": "https://localhost:8080/"
        },
        "id": "8uhl3Vw1nXtL",
        "outputId": "7942cbb0-53ba-4ff9-f72e-a94f9cb7f8d3"
      },
      "source": [
        "# 리스트: 많은 양의 데이터를 다루고자 할 때 사용\r\n",
        "# 리스트(list) => 목록\r\n",
        "\r\n",
        "food = ['라면','우동']\r\n",
        "food.append('김밥') #['라면' '우동', '김밥']\r\n",
        "food.append('커피') #['라면' '우동', '김밥', '커피']\r\n",
        "print(len(food)) "
      ],
      "execution_count": 8,
      "outputs": [
        {
          "output_type": "stream",
          "text": [
            "4\n"
          ],
          "name": "stdout"
        }
      ]
    },
    {
      "cell_type": "code",
      "metadata": {
        "colab": {
          "base_uri": "https://localhost:8080/"
        },
        "id": "QqgTi1skox58",
        "outputId": "8e33b760-c8a0-4c90-f165-ee1547ed0b6e"
      },
      "source": [
        "for x in range(1, 51, 1):  #1, 2, 3, ...., 50\r\n",
        "  if x % 2 == 0:\r\n",
        "    print(x, end=' ')"
      ],
      "execution_count": 10,
      "outputs": [
        {
          "output_type": "stream",
          "text": [
            "2 4 6 8 10 12 14 16 18 20 22 24 26 28 30 32 34 36 38 40 42 44 46 48 50 "
          ],
          "name": "stdout"
        }
      ]
    },
    {
      "cell_type": "code",
      "metadata": {
        "colab": {
          "base_uri": "https://localhost:8080/"
        },
        "id": "kwInbl2wtXqZ",
        "outputId": "81c21f85-1e30-41ce-fff8-2733a5af98a7"
      },
      "source": [
        "count = 0\r\n",
        "for x in range(1, 1001): #1, 2, 3, ...., 1000, 마지막 값은 jump값!\r\n",
        "  if x % 3 == 0: # True\r\n",
        "    # x가 3의 배수일때만 카운트\r\n",
        "    count = count + 1\r\n",
        "\r\n",
        "print(count)"
      ],
      "execution_count": 11,
      "outputs": [
        {
          "output_type": "stream",
          "text": [
            "333\n"
          ],
          "name": "stdout"
        }
      ]
    },
    {
      "cell_type": "code",
      "metadata": {
        "id": "vo4In3wbu7OF"
      },
      "source": [
        "todo_list = []"
      ],
      "execution_count": 12,
      "outputs": []
    },
    {
      "cell_type": "code",
      "metadata": {
        "id": "VhQ8wYKJvxQ9"
      },
      "source": [
        "todo_list.append('놀기') #['놀기']\r\n",
        "todo_list.append('먹기') #['놀기','먹기'] "
      ],
      "execution_count": 13,
      "outputs": []
    },
    {
      "cell_type": "code",
      "metadata": {
        "colab": {
          "base_uri": "https://localhost:8080/"
        },
        "id": "H_lkWVrxwSus",
        "outputId": "4b712a71-f4c8-43a7-cb62-a0749feda62e"
      },
      "source": [
        "len(todo_list) #요소(element, 엘리먼트)의 개수"
      ],
      "execution_count": 14,
      "outputs": [
        {
          "output_type": "execute_result",
          "data": {
            "text/plain": [
              "2"
            ]
          },
          "metadata": {
            "tags": []
          },
          "execution_count": 14
        }
      ]
    },
    {
      "cell_type": "code",
      "metadata": {
        "id": "l5-tunT1wVmP"
      },
      "source": [
        "for x in range(0, 3):\r\n",
        "  todo_list.append('잠자기')"
      ],
      "execution_count": 15,
      "outputs": []
    },
    {
      "cell_type": "code",
      "metadata": {
        "colab": {
          "base_uri": "https://localhost:8080/"
        },
        "id": "BIvphBjzw_K8",
        "outputId": "598e51dc-bdd2-4320-8f9b-11969fbd7d72"
      },
      "source": [
        "len(todo_list)"
      ],
      "execution_count": 16,
      "outputs": [
        {
          "output_type": "execute_result",
          "data": {
            "text/plain": [
              "5"
            ]
          },
          "metadata": {
            "tags": []
          },
          "execution_count": 16
        }
      ]
    },
    {
      "cell_type": "code",
      "metadata": {
        "colab": {
          "base_uri": "https://localhost:8080/"
        },
        "id": "f0CsYND4xA5U",
        "outputId": "93da5d5c-fbe3-4448-eecf-d08a22a1e996"
      },
      "source": [
        "for _ in range(0, 3): #[0,1,2]\r\n",
        "  data = input('하고 싶은 일 입력: ') #tv보기\r\n",
        "  todo_list.append(data)"
      ],
      "execution_count": 17,
      "outputs": [
        {
          "output_type": "stream",
          "text": [
            "하고 싶은 일 입력: tv보기\n",
            "하고 싶은 일 입력: 코딩하기\n",
            "하고 싶은 일 입력: 또먹기\n"
          ],
          "name": "stdout"
        }
      ]
    },
    {
      "cell_type": "code",
      "metadata": {
        "colab": {
          "base_uri": "https://localhost:8080/"
        },
        "id": "pDck0KOnxSk0",
        "outputId": "2626f284-cf07-46d6-ba70-f8622d5f09ef"
      },
      "source": [
        "len(todo_list)"
      ],
      "execution_count": 18,
      "outputs": [
        {
          "output_type": "execute_result",
          "data": {
            "text/plain": [
              "8"
            ]
          },
          "metadata": {
            "tags": []
          },
          "execution_count": 18
        }
      ]
    },
    {
      "cell_type": "code",
      "metadata": {
        "colab": {
          "base_uri": "https://localhost:8080/"
        },
        "id": "xm-fL7l5xfJF",
        "outputId": "e76d6ff8-6313-45da-a74e-fb52070c5c5f"
      },
      "source": [
        "food_list = []\r\n",
        "\r\n",
        "while True: #무한반복\r\n",
        "  data = input('먹고 싶은 음식 입력(종료:x)>> ')\r\n",
        "  if data == 'x':\r\n",
        "    print('시스템을 종료합니다.')\r\n",
        "    break\r\n",
        "  else:\r\n",
        "    food_list.append(data)\r\n"
      ],
      "execution_count": 22,
      "outputs": [
        {
          "output_type": "stream",
          "text": [
            "먹고 싶은 음식 입력(종료:x)>> 라면\n",
            "먹고 싶은 음식 입력(종료:x)>> 우동\n",
            "먹고 싶은 음식 입력(종료:x)>> 짜장\n",
            "먹고 싶은 음식 입력(종료:x)>> 밥\n",
            "먹고 싶은 음식 입력(종료:x)>> 국수\n",
            "먹고 싶은 음식 입력(종료:x)>> x\n",
            "시스템을 종료합니다.\n"
          ],
          "name": "stdout"
        }
      ]
    },
    {
      "cell_type": "code",
      "metadata": {
        "colab": {
          "base_uri": "https://localhost:8080/"
        },
        "id": "RUHc0ToRyOCj",
        "outputId": "bdd6e09d-0937-4dd4-e2ab-7ecc854723d3"
      },
      "source": [
        "len(food_list)"
      ],
      "execution_count": 23,
      "outputs": [
        {
          "output_type": "execute_result",
          "data": {
            "text/plain": [
              "5"
            ]
          },
          "metadata": {
            "tags": []
          },
          "execution_count": 23
        }
      ]
    },
    {
      "cell_type": "code",
      "metadata": {
        "id": "d0hPlytIy3ct"
      },
      "source": [
        "food2 = ['라면','물','김밥','우동','밥']\r\n",
        "#리스트에서는 위치값을 가지고 각 요소들을 구분한다.\r\n",
        "#위치값은 index, index는 0부터 시작!"
      ],
      "execution_count": 25,
      "outputs": []
    },
    {
      "cell_type": "code",
      "metadata": {
        "colab": {
          "base_uri": "https://localhost:8080/"
        },
        "id": "NMIiVLgj10SK",
        "outputId": "69a3bdf8-ef54-490d-e3d5-4702ddd1f9d4"
      },
      "source": [
        "print(food2[0], food2[4])"
      ],
      "execution_count": 27,
      "outputs": [
        {
          "output_type": "stream",
          "text": [
            "라면 밥\n"
          ],
          "name": "stdout"
        }
      ]
    },
    {
      "cell_type": "code",
      "metadata": {
        "colab": {
          "base_uri": "https://localhost:8080/"
        },
        "id": "Lw846pAn2HdX",
        "outputId": "92f864c7-b2b9-47c8-bd02-7459b0f8a01e"
      },
      "source": [
        "print(food2[0:3])"
      ],
      "execution_count": 28,
      "outputs": [
        {
          "output_type": "stream",
          "text": [
            "['라면', '물', '김밥']\n"
          ],
          "name": "stdout"
        }
      ]
    },
    {
      "cell_type": "code",
      "metadata": {
        "colab": {
          "base_uri": "https://localhost:8080/"
        },
        "id": "B3moHPd52iMn",
        "outputId": "b21eccdb-f6d4-4436-cdff-624e16a2b691"
      },
      "source": [
        "print(food2[2])"
      ],
      "execution_count": 29,
      "outputs": [
        {
          "output_type": "stream",
          "text": [
            "김밥\n"
          ],
          "name": "stdout"
        }
      ]
    },
    {
      "cell_type": "code",
      "metadata": {
        "colab": {
          "base_uri": "https://localhost:8080/"
        },
        "id": "mE3kfPsy2qze",
        "outputId": "4038d75f-1790-42dc-866a-ab4daedbebeb"
      },
      "source": [
        "print(food2[2:]) #인덱싱, 슬라이싱"
      ],
      "execution_count": 30,
      "outputs": [
        {
          "output_type": "stream",
          "text": [
            "['김밥', '우동', '밥']\n"
          ],
          "name": "stdout"
        }
      ]
    },
    {
      "cell_type": "code",
      "metadata": {
        "colab": {
          "base_uri": "https://localhost:8080/"
        },
        "id": "dLNB7O-l2zgP",
        "outputId": "a2d12f78-5fc8-4c63-ddc7-924cd7fe7131"
      },
      "source": [
        "it회사 = []\r\n",
        "for _ in range(4):\r\n",
        "  data = input('회사 이름>> ')\r\n",
        "  it회사.append(data)"
      ],
      "execution_count": 32,
      "outputs": [
        {
          "output_type": "stream",
          "text": [
            "회사 이름>> 네이버\n",
            "회사 이름>> 카카오\n",
            "회사 이름>> 구글\n",
            "회사 이름>> 링크드인\n"
          ],
          "name": "stdout"
        }
      ]
    },
    {
      "cell_type": "code",
      "metadata": {
        "colab": {
          "base_uri": "https://localhost:8080/"
        },
        "id": "8rHMZgo77Q1u",
        "outputId": "504fe683-39bd-43d4-82f8-e06c63502dcb"
      },
      "source": [
        "it회사"
      ],
      "execution_count": 34,
      "outputs": [
        {
          "output_type": "execute_result",
          "data": {
            "text/plain": [
              "['네이버', '카카오', '구글', '링크드인']"
            ]
          },
          "metadata": {
            "tags": []
          },
          "execution_count": 34
        }
      ]
    },
    {
      "cell_type": "code",
      "metadata": {
        "id": "wbV0mW3i7cNt"
      },
      "source": [
        "jumsu = [] #100, 99, 88\r\n"
      ],
      "execution_count": 35,
      "outputs": []
    },
    {
      "cell_type": "code",
      "metadata": {
        "colab": {
          "base_uri": "https://localhost:8080/"
        },
        "id": "yzQG4rJb7lnp",
        "outputId": "e548d11e-12fb-41f1-90fe-429648e60f13"
      },
      "source": [
        "for _ in range(3):\r\n",
        "  data = input('학기 총점: ')\r\n",
        "  data2 = int(data)\r\n",
        "  jumsu.append(data2)"
      ],
      "execution_count": 36,
      "outputs": [
        {
          "output_type": "stream",
          "text": [
            "학기 총점: 100\n",
            "학기 총점: 88\n",
            "학기 총점: 9\n"
          ],
          "name": "stdout"
        }
      ]
    },
    {
      "cell_type": "code",
      "metadata": {
        "colab": {
          "base_uri": "https://localhost:8080/"
        },
        "id": "iq39itmP73xa",
        "outputId": "e0eaac10-7f3b-4fb5-9e6f-c2ba4a78b1e0"
      },
      "source": [
        "sum = 0\r\n",
        "for x in jumsu:\r\n",
        "  sum = sum + x\r\n",
        "print('총점 ', sum)\r\n",
        "print('평균 ', sum/len(jumsu))"
      ],
      "execution_count": 38,
      "outputs": [
        {
          "output_type": "stream",
          "text": [
            "총점  197\n",
            "평균  65.66666666666667\n"
          ],
          "name": "stdout"
        }
      ]
    },
    {
      "cell_type": "code",
      "metadata": {
        "id": "PnPhkQPn8tCa"
      },
      "source": [
        "target = 77"
      ],
      "execution_count": 39,
      "outputs": []
    },
    {
      "cell_type": "code",
      "metadata": {
        "colab": {
          "base_uri": "https://localhost:8080/"
        },
        "id": "hbV-xHo09hCA",
        "outputId": "1576ecee-031f-493e-efa7-2d60314aa64a"
      },
      "source": [
        "count = 0\r\n",
        "\r\n",
        "while True:\r\n",
        "  data = input('당신이 생각한 정답 입력>> ')\r\n",
        "  count = count + 1\r\n",
        "  data2 = int(data)\r\n",
        "  if data2 == target:\r\n",
        "    print('정답입니다.')\r\n",
        "    print('시도횟수: ', count)\r\n",
        "    break\r\n",
        "  else: #99\r\n",
        "    print('정답이 아닙니다.')\r\n",
        "    if data2 > target:\r\n",
        "      print('너무 커요!')\r\n",
        "    else:\r\n",
        "      print('너무 작아요!')"
      ],
      "execution_count": 42,
      "outputs": [
        {
          "output_type": "stream",
          "text": [
            "당신이 생각한 정답 입력>> 99\n",
            "정답이 아닙니다.\n",
            "너무 커요!\n",
            "당신이 생각한 정답 입력>> 88\n",
            "정답이 아닙니다.\n",
            "너무 커요!\n",
            "당신이 생각한 정답 입력>> 33\n",
            "정답이 아닙니다.\n",
            "너무 작아요!\n",
            "당신이 생각한 정답 입력>> 77\n",
            "정답입니다.\n",
            "시도횟수:  4\n"
          ],
          "name": "stdout"
        }
      ]
    },
    {
      "cell_type": "code",
      "metadata": {
        "id": "uJmMwzWl9xea"
      },
      "source": [
        "a = 10\r\n",
        "b = 0.5\r\n",
        "c = 0.7\r\n",
        "d = a * b * c"
      ],
      "execution_count": 43,
      "outputs": []
    },
    {
      "cell_type": "code",
      "metadata": {
        "colab": {
          "base_uri": "https://localhost:8080/"
        },
        "id": "fgZ0MxnBBuoL",
        "outputId": "9de313c8-1a22-4a7d-d640-a2462bdf7173"
      },
      "source": [
        "d"
      ],
      "execution_count": 44,
      "outputs": [
        {
          "output_type": "execute_result",
          "data": {
            "text/plain": [
              "3.5"
            ]
          },
          "metadata": {
            "tags": []
          },
          "execution_count": 44
        }
      ]
    },
    {
      "cell_type": "code",
      "metadata": {
        "colab": {
          "base_uri": "https://localhost:8080/"
        },
        "id": "f-4r_qNEByJC",
        "outputId": "c441c9ae-e40e-46e8-ed8a-ed21274450dc"
      },
      "source": [
        "int(d)"
      ],
      "execution_count": 45,
      "outputs": [
        {
          "output_type": "execute_result",
          "data": {
            "text/plain": [
              "3"
            ]
          },
          "metadata": {
            "tags": []
          },
          "execution_count": 45
        }
      ]
    },
    {
      "cell_type": "code",
      "metadata": {
        "colab": {
          "base_uri": "https://localhost:8080/"
        },
        "id": "pT3gGwN0B3S6",
        "outputId": "21a2bd90-2a97-4e71-bed4-872e34502d0b"
      },
      "source": [
        "print('세 수의 곱은 ', int(a * b * c), '입니다.')"
      ],
      "execution_count": 47,
      "outputs": [
        {
          "output_type": "stream",
          "text": [
            "세 수의 곱은  3 입니다.\n"
          ],
          "name": "stdout"
        }
      ]
    },
    {
      "cell_type": "code",
      "metadata": {
        "id": "7nbyDGw8CAGl"
      },
      "source": [
        "location = []"
      ],
      "execution_count": 48,
      "outputs": []
    },
    {
      "cell_type": "code",
      "metadata": {
        "colab": {
          "base_uri": "https://localhost:8080/"
        },
        "id": "5uwW-TUFEAEU",
        "outputId": "2515f1c3-8a0a-43c8-c8bf-3fa223884f39"
      },
      "source": [
        "for _ in range(5):\r\n",
        "  data = input('장소 입력: ')\r\n",
        "  location.append(data)"
      ],
      "execution_count": 49,
      "outputs": [
        {
          "output_type": "stream",
          "text": [
            "장소 입력: 여의도\n",
            "장소 입력: 신촌\n",
            "장소 입력: 강남\n",
            "장소 입력: 속초\n",
            "장소 입력: 제주도\n"
          ],
          "name": "stdout"
        }
      ]
    },
    {
      "cell_type": "code",
      "metadata": {
        "colab": {
          "base_uri": "https://localhost:8080/"
        },
        "id": "PpBsxYGvEKtu",
        "outputId": "aef2c34b-e88c-4f47-e61c-0186a31c7521"
      },
      "source": [
        "location"
      ],
      "execution_count": 50,
      "outputs": [
        {
          "output_type": "execute_result",
          "data": {
            "text/plain": [
              "['여의도', '신촌', '강남', '속초', '제주도']"
            ]
          },
          "metadata": {
            "tags": []
          },
          "execution_count": 50
        }
      ]
    },
    {
      "cell_type": "code",
      "metadata": {
        "id": "v109tKzdERp6"
      },
      "source": [
        "del location[2]"
      ],
      "execution_count": 51,
      "outputs": []
    },
    {
      "cell_type": "code",
      "metadata": {
        "colab": {
          "base_uri": "https://localhost:8080/"
        },
        "id": "ZpxMvHGoEWrT",
        "outputId": "fa7eb26c-e414-4313-94d0-315f9282b80c"
      },
      "source": [
        "location"
      ],
      "execution_count": 52,
      "outputs": [
        {
          "output_type": "execute_result",
          "data": {
            "text/plain": [
              "['여의도', '신촌', '속초', '제주도']"
            ]
          },
          "metadata": {
            "tags": []
          },
          "execution_count": 52
        }
      ]
    },
    {
      "cell_type": "code",
      "metadata": {
        "id": "SFyVO2KtEYdR"
      },
      "source": [
        "location[3] = '제주시'"
      ],
      "execution_count": 53,
      "outputs": []
    },
    {
      "cell_type": "code",
      "metadata": {
        "colab": {
          "base_uri": "https://localhost:8080/"
        },
        "id": "oaNHXmY2Eebk",
        "outputId": "63ac6d02-ab15-42dd-b1e0-f5785469897f"
      },
      "source": [
        "location"
      ],
      "execution_count": 54,
      "outputs": [
        {
          "output_type": "execute_result",
          "data": {
            "text/plain": [
              "['여의도', '신촌', '속초', '제주시']"
            ]
          },
          "metadata": {
            "tags": []
          },
          "execution_count": 54
        }
      ]
    },
    {
      "cell_type": "code",
      "metadata": {
        "colab": {
          "base_uri": "https://localhost:8080/"
        },
        "id": "Qb1GRQWXEfoc",
        "outputId": "88362043-a858-49ee-e82a-d34e52914c19"
      },
      "source": [
        "for index in range(len(location)): #[0,1,2,3], range(4)\r\n",
        "  print(index + 1, '위: ', location[index])"
      ],
      "execution_count": 58,
      "outputs": [
        {
          "output_type": "stream",
          "text": [
            "1 위:  여의도\n",
            "2 위:  신촌\n",
            "3 위:  속초\n",
            "4 위:  제주시\n"
          ],
          "name": "stdout"
        }
      ]
    },
    {
      "cell_type": "code",
      "metadata": {
        "colab": {
          "base_uri": "https://localhost:8080/"
        },
        "id": "cDVKAr2KEslW",
        "outputId": "35de2b92-a0a5-41f1-e0cf-22eee9b6da56"
      },
      "source": [
        "me = {'이름':'홍길동', '나이':100}\r\n",
        "you = {'이름':'김길동', '나이':200}\r\n",
        "we = [me, you]\r\n",
        "mom = {}\r\n",
        "mom['이름'] = '장길동'\r\n",
        "mom['나이'] = 300\r\n",
        "we.append(mom)\r\n",
        "we"
      ],
      "execution_count": 59,
      "outputs": [
        {
          "output_type": "execute_result",
          "data": {
            "text/plain": [
              "[{'나이': 100, '이름': '홍길동'}, {'나이': 200, '이름': '김길동'}, {'나이': 300, '이름': '장길동'}]"
            ]
          },
          "metadata": {
            "tags": []
          },
          "execution_count": 59
        }
      ]
    },
    {
      "cell_type": "code",
      "metadata": {
        "id": "6Xe161NIdcCT"
      },
      "source": [
        ""
      ],
      "execution_count": null,
      "outputs": []
    }
  ]
}